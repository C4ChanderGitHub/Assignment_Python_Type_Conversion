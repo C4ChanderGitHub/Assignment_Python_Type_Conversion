{
 "cells": [
  {
   "cell_type": "code",
   "execution_count": 1,
   "id": "3232fc78",
   "metadata": {},
   "outputs": [
    {
     "name": "stdout",
     "output_type": "stream",
     "text": [
      "Enter anything = Chander Parkash\n",
      "<class 'str'>\n",
      "Chander Parkash is in string format as you can see\n"
     ]
    }
   ],
   "source": [
    "#user input always comes in string format.\n",
    "user_input = input(\"Enter anything = \")\n",
    "print(type(user_input))\n",
    "print(f\"{user_input} is in string format as you can see\")"
   ]
  },
  {
   "cell_type": "code",
   "execution_count": 2,
   "id": "a492d001",
   "metadata": {},
   "outputs": [
    {
     "name": "stdout",
     "output_type": "stream",
     "text": [
      "Enter any number = 24\n",
      "<class 'str'>\n",
      "24 is in string format because by default input keyward takes string format\n"
     ]
    }
   ],
   "source": [
    "#user input always comes in string format whether you enter numeric value.\n",
    "user_input_string = input(\"Enter any number = \") # here number also come in string format\n",
    "print(type(user_input_string))\n",
    "print(f\"{user_input_string} is in string format because by default input keyward takes string format\")"
   ]
  },
  {
   "cell_type": "code",
   "execution_count": 3,
   "id": "d485709d",
   "metadata": {},
   "outputs": [
    {
     "name": "stdout",
     "output_type": "stream",
     "text": [
      "Enter any number = 24\n",
      "<class 'int'>\n",
      "now 24 is convert into number format because of type conversion using by int function\n"
     ]
    }
   ],
   "source": [
    "#user input always comes in string format but you can change the type of format by using type conversion\n",
    "user_input_number = int(input(\"Enter any number = \")) #here number comes in integer format\n",
    "print(type(user_input_number))\n",
    "print(f\"now {user_input_number} is convert into number format because of type conversion using by int function\")"
   ]
  },
  {
   "cell_type": "markdown",
   "id": "e5601e58",
   "metadata": {},
   "source": [
    "# 1. Convert an integer to a floating-point number."
   ]
  },
  {
   "cell_type": "code",
   "execution_count": 4,
   "id": "9b5c0c1a",
   "metadata": {},
   "outputs": [
    {
     "name": "stdout",
     "output_type": "stream",
     "text": [
      "Enter any numberic value = 24\n",
      "<class 'int'>\n"
     ]
    }
   ],
   "source": [
    "integer_value = int(input(\"Enter any numberic value = \")) #number outcome is in integer format\n",
    "print(type(integer_value))"
   ]
  },
  {
   "cell_type": "code",
   "execution_count": 5,
   "id": "86d10c25",
   "metadata": {},
   "outputs": [
    {
     "name": "stdout",
     "output_type": "stream",
     "text": [
      "now integer \"24\" convert into float \"24.0\" value\n"
     ]
    }
   ],
   "source": [
    "#convert an integer to a floating point number.\n",
    "if isinstance(integer_value,int): #integer_value = 24 with integer form.\n",
    "    #isinstance function takes two arguments (object and class) and output comes in True or False\n",
    "    #here condition is True i.e. integer_value is in integer format\n",
    "    convert_into_float = float(integer_value) #here integer convert into float\n",
    "    print(f'now integer \"{integer_value}\" convert into float \"{convert_into_float}\" value')\n",
    "else:\n",
    "    print(\"This is not a integer value\")"
   ]
  },
  {
   "cell_type": "markdown",
   "id": "402f2b3d",
   "metadata": {},
   "source": [
    "# 2. Convert a float to an integer"
   ]
  },
  {
   "cell_type": "code",
   "execution_count": 6,
   "id": "6bbabe24",
   "metadata": {},
   "outputs": [
    {
     "name": "stdout",
     "output_type": "stream",
     "text": [
      "enter any numeric value = 24\n",
      "<class 'float'>\n"
     ]
    }
   ],
   "source": [
    "float_value = float(input(\"enter any numeric value = \"))\n",
    "print(type(float_value))"
   ]
  },
  {
   "cell_type": "code",
   "execution_count": 7,
   "id": "eac8b5eb",
   "metadata": {},
   "outputs": [
    {
     "name": "stdout",
     "output_type": "stream",
     "text": [
      "your float value \"24.0\" convert into integer \"24\"\n"
     ]
    }
   ],
   "source": [
    "#convert float value to integer by using isinstance function with if function\n",
    "if isinstance(float_value,float): #isinstance function takes two arguments (object and class) and output comes True or False\n",
    "    float_to_integer = int(float_value)\n",
    "    print(f'your float value \"{float_value}\" convert into integer \"{float_to_integer}\"')\n",
    "else:\n",
    "    print(f'\"{float_value}\" is not a float value')"
   ]
  },
  {
   "cell_type": "markdown",
   "id": "98610c4d",
   "metadata": {},
   "source": [
    "# 3. Convert an integer to a string"
   ]
  },
  {
   "cell_type": "code",
   "execution_count": 8,
   "id": "ecfa0803",
   "metadata": {},
   "outputs": [
    {
     "name": "stdout",
     "output_type": "stream",
     "text": [
      "\"24\" is a integer value\n",
      "<class 'int'>\n"
     ]
    }
   ],
   "source": [
    "for_int_to_string = integer_value #here interger_value is 24 that is already mentioned above\n",
    "print(f'\"{for_int_to_string}\" is a integer value')\n",
    "print(type(for_int_to_string))"
   ]
  },
  {
   "cell_type": "code",
   "execution_count": 9,
   "id": "c603d059",
   "metadata": {},
   "outputs": [
    {
     "name": "stdout",
     "output_type": "stream",
     "text": [
      "24\n",
      "now \"24\" is converted into \"string\" format\n",
      "<class 'str'>\n"
     ]
    }
   ],
   "source": [
    "#convert integer to string with function \"str\"\n",
    "convert_int_to_string = str(for_int_to_string) #here interger_value is 24 that is already mentioned above\n",
    "print(convert_int_to_string)\n",
    "print(f'now \"{convert_int_to_string}\" is converted into \"string\" format')\n",
    "print(type(convert_int_to_string))"
   ]
  },
  {
   "cell_type": "markdown",
   "id": "821a0ed6",
   "metadata": {},
   "source": [
    "# 4. Convert a list to a tuple"
   ]
  },
  {
   "cell_type": "code",
   "execution_count": 10,
   "id": "9c572be6",
   "metadata": {},
   "outputs": [
    {
     "name": "stdout",
     "output_type": "stream",
     "text": [
      "<class 'list'>\n"
     ]
    }
   ],
   "source": [
    "#create a list\n",
    "my_list = [1, 5, 7, 9, \"Chander\", 4, 54.5, \"Parkash\", 78] #that is list\n",
    "print(type(my_list))"
   ]
  },
  {
   "cell_type": "code",
   "execution_count": 11,
   "id": "6cca125b",
   "metadata": {},
   "outputs": [
    {
     "name": "stdout",
     "output_type": "stream",
     "text": [
      "<class 'tuple'>\n"
     ]
    }
   ],
   "source": [
    "#convert list to tuple\n",
    "list_to_tuple = tuple(my_list) #list is convert into tuple by using tuple function\n",
    "print(type(list_to_tuple))"
   ]
  },
  {
   "cell_type": "code",
   "execution_count": 12,
   "id": "e0ac0999",
   "metadata": {},
   "outputs": [
    {
     "name": "stdout",
     "output_type": "stream",
     "text": [
      "(1, 5, 7, 9, 'Chander', 4, 54.5, 'Parkash', 78)\n"
     ]
    }
   ],
   "source": [
    "print(list_to_tuple)"
   ]
  },
  {
   "cell_type": "markdown",
   "id": "986c8f9d",
   "metadata": {},
   "source": [
    "# 5. Convert a tuple to a list"
   ]
  },
  {
   "cell_type": "code",
   "execution_count": 13,
   "id": "89398076",
   "metadata": {},
   "outputs": [
    {
     "name": "stdout",
     "output_type": "stream",
     "text": [
      "[1, 5, 7, 9, 'Chander', 4, 54.5, 'Parkash', 78]\n",
      "<class 'list'>\n"
     ]
    }
   ],
   "source": [
    "tuple_to_list = list(list_to_tuple) #convert a list from tuple\n",
    "print(tuple_to_list)\n",
    "print(type(tuple_to_list))"
   ]
  },
  {
   "cell_type": "markdown",
   "id": "9833ea41",
   "metadata": {},
   "source": [
    "# 6. Convert a decimal number to binary"
   ]
  },
  {
   "cell_type": "code",
   "execution_count": 14,
   "id": "453bc981",
   "metadata": {},
   "outputs": [
    {
     "name": "stdout",
     "output_type": "stream",
     "text": [
      "72487\n",
      "0b10001101100100111\n",
      "<class 'str'>\n"
     ]
    }
   ],
   "source": [
    "#decimal number\n",
    "dec_numb = 72487\n",
    "convert_into_binary = bin(dec_numb)\n",
    "print(dec_numb)\n",
    "print(convert_into_binary)\n",
    "print(type(convert_into_binary))"
   ]
  },
  {
   "cell_type": "markdown",
   "id": "f7e88822",
   "metadata": {},
   "source": [
    "# 7. Convert a non-zero number to Boolean"
   ]
  },
  {
   "cell_type": "code",
   "execution_count": 15,
   "id": "04ca0c08",
   "metadata": {},
   "outputs": [
    {
     "name": "stdout",
     "output_type": "stream",
     "text": [
      "24\n"
     ]
    }
   ],
   "source": [
    "#integer_value already define above\n",
    "print(integer_value) #integer_value is already defined above i.e. 24"
   ]
  },
  {
   "cell_type": "code",
   "execution_count": 16,
   "id": "5181029d",
   "metadata": {},
   "outputs": [
    {
     "name": "stdout",
     "output_type": "stream",
     "text": [
      "True\n"
     ]
    }
   ],
   "source": [
    "for_boolean = bool(integer_value) #integer value convert into boolean\n",
    "print(for_boolean) #output comes as True"
   ]
  }
 ],
 "metadata": {
  "kernelspec": {
   "display_name": "Python 3 (ipykernel)",
   "language": "python",
   "name": "python3"
  },
  "language_info": {
   "codemirror_mode": {
    "name": "ipython",
    "version": 3
   },
   "file_extension": ".py",
   "mimetype": "text/x-python",
   "name": "python",
   "nbconvert_exporter": "python",
   "pygments_lexer": "ipython3",
   "version": "3.11.5"
  }
 },
 "nbformat": 4,
 "nbformat_minor": 5
}
